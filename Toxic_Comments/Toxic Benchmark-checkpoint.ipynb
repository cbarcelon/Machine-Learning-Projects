{
 "cells": [
  {
   "cell_type": "markdown",
   "metadata": {},
   "source": [
    "Benchmark Keras - Bidirectional LSTM baseline (lb 0.051)\n",
    "Provided by CVxTz "
   ]
  },
  {
   "cell_type": "code",
   "execution_count": 1,
   "metadata": {},
   "outputs": [
    {
     "name": "stdout",
     "output_type": "stream",
     "text": [
      "sample_submission.csv\n",
      "sample_submission.csv.zip\n",
      "test.csv\n",
      "test.csv.zip\n",
      "Toxic Benchmark-checkpoint.ipynb\n",
      "Toxic_self_benchmarking.ipynb\n",
      "train.csv\n",
      "train.csv.zip\n",
      "weights_base.best.hdf5\n",
      "\n"
     ]
    }
   ],
   "source": [
    "import numpy as np\n",
    "import pandas as pd\n",
    "from subprocess import check_output\n",
    "print(check_output([\"ls\", \"./\"]).decode(\"utf8\"))"
   ]
  },
  {
   "cell_type": "code",
   "execution_count": 2,
   "metadata": {},
   "outputs": [
    {
     "name": "stderr",
     "output_type": "stream",
     "text": [
      "Using TensorFlow backend.\n"
     ]
    }
   ],
   "source": [
    "from keras.models import Model\n",
    "from keras.layers import Dense, Embedding, Input\n",
    "from keras.layers import LSTM, Bidirectional, GlobalMaxPool1D, Dropout\n",
    "from keras.preprocessing import text, sequence\n",
    "from keras.callbacks import EarlyStopping, ModelCheckpoint\n",
    "\n",
    "max_features = 20000\n",
    "maxlen = 100\n"
   ]
  },
  {
   "cell_type": "code",
   "execution_count": 3,
   "metadata": {},
   "outputs": [],
   "source": [
    "train = pd.read_csv(\"./train.csv\")\n",
    "test = pd.read_csv(\"./test.csv\")\n",
    "train = train.sample(frac=1)"
   ]
  },
  {
   "cell_type": "code",
   "execution_count": 4,
   "metadata": {},
   "outputs": [],
   "source": [
    "list_sentences_train = train[\"comment_text\"].fillna(\"cbarcelon\").values\n",
    "list_classes = [\"toxic\", \"severe_toxic\", \"obscene\", \"threat\", \"insult\", \"identity_hate\"]\n",
    "y = train[list_classes].values\n",
    "list_sentences_test = test[\"comment_text\"].fillna(\"cbarcelon\").values"
   ]
  },
  {
   "cell_type": "code",
   "execution_count": 5,
   "metadata": {},
   "outputs": [],
   "source": [
    "tokenizer = text.Tokenizer(num_words=max_features)\n",
    "tokenizer.fit_on_texts(list(list_sentences_train))\n",
    "list_tokenized_train = tokenizer.texts_to_sequences(list_sentences_train)\n",
    "list_tokenized_test = tokenizer.texts_to_sequences(list_sentences_test)\n",
    "X_t = sequence.pad_sequences(list_tokenized_train, maxlen=maxlen)\n",
    "X_te = sequence.pad_sequences(list_tokenized_test, maxlen=maxlen)"
   ]
  },
  {
   "cell_type": "code",
   "execution_count": 27,
   "metadata": {},
   "outputs": [],
   "source": [
    "def get_model():\n",
    "    embed_size = 256\n",
    "    inp = Input(shape=(maxlen, ))\n",
    "    x = Embedding(max_features, embed_size)(inp)\n",
    "    x = Bidirectional(LSTM(100, return_sequences=True))(x)\n",
    "    x = GlobalMaxPool1D()(x)\n",
    "  #  x = Bidirectional(LSTM(50, return_sequences=True))(x)\n",
    "    x = Dropout(0.3)(x)\n",
    "    x = Dense(200, activation=\"relu\")(x)\n",
    "    x = Dropout(0.3)(x)\n",
    "    x = Dense(6, activation=\"sigmoid\")(x)\n",
    "    model = Model(inputs=inp, outputs=x)\n",
    "    model.compile(loss='binary_crossentropy',\n",
    "                  optimizer='adam',\n",
    "                  metrics=['accuracy'])\n",
    "\n",
    "    return model"
   ]
  },
  {
   "cell_type": "code",
   "execution_count": 26,
   "metadata": {},
   "outputs": [
    {
     "name": "stdout",
     "output_type": "stream",
     "text": [
      "Train on 86265 samples, validate on 9586 samples\n",
      "Epoch 1/10\n",
      "86000/86265 [============================>.] - ETA: 0s - loss: 0.1613 - acc: 0.9620Epoch 00000: val_loss improved from inf to 0.09360, saving model to weights_base.best.hdf5\n",
      "86265/86265 [==============================] - 65s - loss: 0.1611 - acc: 0.9620 - val_loss: 0.0936 - val_acc: 0.9694\n",
      "Epoch 2/10\n",
      "86000/86265 [============================>.] - ETA: 0s - loss: 0.0654 - acc: 0.9776Epoch 00001: val_loss improved from 0.09360 to 0.05764, saving model to weights_base.best.hdf5\n",
      "86265/86265 [==============================] - 64s - loss: 0.0653 - acc: 0.9776 - val_loss: 0.0576 - val_acc: 0.9800\n",
      "Epoch 3/10\n",
      "86000/86265 [============================>.] - ETA: 0s - loss: 0.0486 - acc: 0.9823Epoch 00002: val_loss improved from 0.05764 to 0.05329, saving model to weights_base.best.hdf5\n",
      "86265/86265 [==============================] - 64s - loss: 0.0487 - acc: 0.9823 - val_loss: 0.0533 - val_acc: 0.9808\n",
      "Epoch 4/10\n",
      "86000/86265 [============================>.] - ETA: 0s - loss: 0.0437 - acc: 0.9836Epoch 00003: val_loss did not improve\n",
      "86265/86265 [==============================] - 64s - loss: 0.0437 - acc: 0.9836 - val_loss: 0.0559 - val_acc: 0.9816\n",
      "Epoch 5/10\n",
      "86000/86265 [============================>.] - ETA: 0s - loss: 0.0402 - acc: 0.9846Epoch 00004: val_loss did not improve\n",
      "86265/86265 [==============================] - 64s - loss: 0.0402 - acc: 0.9846 - val_loss: 0.0572 - val_acc: 0.9804\n",
      "Epoch 6/10\n",
      "86000/86265 [============================>.] - ETA: 0s - loss: 0.0374 - acc: 0.9856Epoch 00005: val_loss did not improve\n",
      "86265/86265 [==============================] - 64s - loss: 0.0374 - acc: 0.9855 - val_loss: 0.0594 - val_acc: 0.9806\n",
      "Epoch 7/10\n",
      "86000/86265 [============================>.] - ETA: 0s - loss: 0.0346 - acc: 0.9867Epoch 00006: val_loss did not improve\n",
      "86265/86265 [==============================] - 64s - loss: 0.0347 - acc: 0.9867 - val_loss: 0.0638 - val_acc: 0.9799\n",
      "Epoch 8/10\n",
      "86000/86265 [============================>.] - ETA: 0s - loss: 0.0328 - acc: 0.9874Epoch 00007: val_loss did not improve\n",
      "86265/86265 [==============================] - 64s - loss: 0.0328 - acc: 0.9874 - val_loss: 0.0706 - val_acc: 0.9798\n",
      "Epoch 9/10\n",
      "86000/86265 [============================>.] - ETA: 0s - loss: 0.0310 - acc: 0.9881Epoch 00008: val_loss did not improve\n",
      "86265/86265 [==============================] - 64s - loss: 0.0310 - acc: 0.9881 - val_loss: 0.0743 - val_acc: 0.9796\n",
      "Epoch 10/10\n",
      "86000/86265 [============================>.] - ETA: 0s - loss: 0.0293 - acc: 0.9888Epoch 00009: val_loss did not improve\n",
      "86265/86265 [==============================] - 64s - loss: 0.0293 - acc: 0.9888 - val_loss: 0.0761 - val_acc: 0.9781\n"
     ]
    }
   ],
   "source": [
    "model = get_model()\n",
    "batch_size = 500\n",
    "epochs = 10\n",
    "\n",
    "\n",
    "file_path=\"weights_base.best.hdf5\"\n",
    "checkpoint = ModelCheckpoint(file_path, monitor='val_loss', verbose=1, save_best_only=True, mode='min')\n",
    "\n",
    "early = EarlyStopping(monitor=\"val_loss\", mode=\"min\", patience=20)\n",
    "\n",
    "\n",
    "callbacks_list = [checkpoint, early] #early\n",
    "model.fit(X_t, y, batch_size=batch_size, epochs=epochs, validation_split=0.1, callbacks=callbacks_list)\n",
    "\n",
    "model.load_weights(file_path)\n",
    "\n",
    "y_test = model.predict(X_te)\n",
    "\n",
    "sample_submission = pd.read_csv(\"./sample_submission.csv\")\n",
    "\n",
    "sample_submission[list_classes] = y_test\n",
    "\n",
    "\n",
    "\n",
    "sample_submission.to_csv(\"baseline.csv\", index=False)"
   ]
  },
  {
   "cell_type": "code",
   "execution_count": null,
   "metadata": {},
   "outputs": [],
   "source": []
  },
  {
   "cell_type": "code",
   "execution_count": null,
   "metadata": {},
   "outputs": [],
   "source": []
  }
 ],
 "metadata": {
  "kernelspec": {
   "display_name": "Python 3",
   "language": "python",
   "name": "python3"
  },
  "language_info": {
   "codemirror_mode": {
    "name": "ipython",
    "version": 3
   },
   "file_extension": ".py",
   "mimetype": "text/x-python",
   "name": "python",
   "nbconvert_exporter": "python",
   "pygments_lexer": "ipython3",
   "version": "3.5.2"
  }
 },
 "nbformat": 4,
 "nbformat_minor": 2
}
